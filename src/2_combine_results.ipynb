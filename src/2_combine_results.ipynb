{
 "cells": [
  {
   "cell_type": "markdown",
   "metadata": {},
   "source": [
    "# Daten pro Jahr zusammenfügen"
   ]
  },
  {
   "cell_type": "code",
   "execution_count": 1,
   "metadata": {},
   "outputs": [],
   "source": [
    "import pandas as pd\n",
    "from pathlib import Path"
   ]
  },
  {
   "cell_type": "markdown",
   "metadata": {},
   "source": [
    "## Load Data"
   ]
  },
  {
   "cell_type": "code",
   "execution_count": 2,
   "metadata": {},
   "outputs": [],
   "source": [
    "df_documents = pd.read_csv(Path('../export/abstimmungen.csv'))\n",
    "df_documents['Sitzungsdatum'] = pd.to_datetime(df_documents['Sitzungsdatum'])\n",
    "df_documents = df_documents.sort_values('Sitzungsdatum')\n",
    "\n",
    "dfs = []\n",
    "for i, row in df_documents.iterrows():\n",
    "    fn = Path('../export/eDocumentsCSV/%s.csv' % row['eDocumentID'])\n",
    "\n",
    "    if fn.exists():\n",
    "        df = pd.read_csv(fn)\n",
    "\n",
    "        # Add Values from Documents\n",
    "        for column in df_documents.columns:\n",
    "            df[column] = row[column]\n",
    "\n",
    "        dfs.append(df)\n",
    "\n",
    "df = pd.concat(dfs).reset_index(drop=True)"
   ]
  },
  {
   "cell_type": "markdown",
   "metadata": {},
   "source": [
    "## Export per Year"
   ]
  },
  {
   "cell_type": "code",
   "execution_count": 9,
   "metadata": {},
   "outputs": [],
   "source": [
    "for year in df.Sitzungsdatum.dt.year.unique():\n",
    "    df_tmp = df[df.Sitzungsdatum.dt.year == year]\n",
    "    df_tmp.to_csv(Path('../export/Jahre/%s.csv' % year), index=False)"
   ]
  },
  {
   "cell_type": "code",
   "execution_count": null,
   "metadata": {},
   "outputs": [],
   "source": []
  }
 ],
 "metadata": {
  "kernelspec": {
   "display_name": "env",
   "language": "python",
   "name": "python3"
  },
  "language_info": {
   "codemirror_mode": {
    "name": "ipython",
    "version": 3
   },
   "file_extension": ".py",
   "mimetype": "text/x-python",
   "name": "python",
   "nbconvert_exporter": "python",
   "pygments_lexer": "ipython3",
   "version": "3.10.8"
  },
  "orig_nbformat": 4,
  "vscode": {
   "interpreter": {
    "hash": "a876f1708db670be7f139fc4229d20470349cf8d4ab3a0d60446a37364b5cf5c"
   }
  }
 },
 "nbformat": 4,
 "nbformat_minor": 2
}
